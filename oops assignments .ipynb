{
 "cells": [
  {
   "cell_type": "markdown",
   "id": "8614dd8d-37f1-4ca4-8b36-9f7089c4a35c",
   "metadata": {},
   "source": [
    "Q1. Create a vehicle class with an init method having instance variables as name_of_vehicle, max_speed\n",
    "and average_of_vehicle."
   ]
  },
  {
   "cell_type": "code",
   "execution_count": null,
   "id": "6c66e193-adbd-472a-b488-5357031ca68f",
   "metadata": {},
   "outputs": [],
   "source": [
    "class Vehicle :\n",
    "        def __init__(self,name_of_vehicle, max_speed, average_of_vehicle):\n",
    "            self.name_of_vehicle = name_of_vehicle\n",
    "            self.max_speed = max_speed\n",
    "            self.average_of_vehicle = average_of_vehicle\n",
    "    \n",
    "       def return_vehicle_details(self) :\n",
    "            return self.average_of_vehicle, self.max_speed,self.name_of_vehicle\n"
   ]
  },
  {
   "cell_type": "markdown",
   "id": "4639446e-5b8b-4c7a-acb5-57986936bea3",
   "metadata": {},
   "source": [
    "Q2. Create a child class car from the vehicle class created in Que 1, which will inherit the vehicle class.\n",
    "Create a method named seating_capacity which takes capacity as an argument and returns the name of\n",
    "the vehicle and its seating capacity."
   ]
  },
  {
   "cell_type": "code",
   "execution_count": null,
   "id": "aa18bb6f-91ef-429a-a1b4-7baa1ab5ae60",
   "metadata": {},
   "outputs": [],
   "source": [
    "class car(Vehicle):\n",
    "             def seating_capacity(self,capacity):\n",
    "               self.capacity = capacity\n",
    "                 return self.name_of_vehicle , self.capacity\n",
    "\n",
    "       c1 = car(\"land rover\" , 1,2)\n",
    "       c1.seating_capacity(4)"
   ]
  },
  {
   "cell_type": "markdown",
   "id": "fb0b2dd2-60dc-4347-ae44-90dc0a9ddd61",
   "metadata": {},
   "source": [
    "Q3. What is multiple inheritance? Write a python code to demonstrate multiple inheritance."
   ]
  },
  {
   "cell_type": "code",
   "execution_count": null,
   "id": "22106f89-d9aa-46e4-b8cf-d4098b2107a6",
   "metadata": {},
   "outputs": [],
   "source": [
    "class company1:\n",
    "         comp =\"google\"\n",
    "    print(\"I am a googler\")\n",
    "\n",
    "    class company2:\n",
    "        comp =\"apple\"\n",
    "        print(\"I am a apple employee\")\n",
    "\n",
    "    class company(company1 ,company2):\n",
    "        name = \"ze0us\"\n",
    "        pass\n",
    "\n",
    "  c = company()"
   ]
  },
  {
   "cell_type": "markdown",
   "id": "9dbddb42-f8a7-4645-b337-af1ea0b68d65",
   "metadata": {},
   "source": [
    "Q4. What are getter and setter in python? Create a class and create a getter and a setter method in this\n",
    "class."
   ]
  },
  {
   "cell_type": "code",
   "execution_count": null,
   "id": "357975f3-8625-416d-8cec-d03ead31a208",
   "metadata": {},
   "outputs": [],
   "source": [
    "class Animal:\n",
    "\n",
    "    def __init__(self,bark):\n",
    "        self.bark = bark\n",
    "    \n",
    "    def get_name(self):\n",
    "        return self.bark\n",
    "    \n",
    "     def set_name(self,bark):\n",
    "        self.bark = bark\n",
    "    \n",
    "    \n",
    "  a = Animal(\"cow\")\n",
    "  a.set_name(\"mah mah!\")\n",
    " a.get_name()"
   ]
  },
  {
   "cell_type": "markdown",
   "id": "a22989af-2604-48b6-9cc8-5c635cd7508a",
   "metadata": {},
   "source": [
    "Q5.What is method overriding in python? Write a python code to demonstrate method overriding."
   ]
  },
  {
   "cell_type": "code",
   "execution_count": null,
   "id": "bcfdcc2b-29c0-48c0-9ff3-268a7b98f7ca",
   "metadata": {},
   "outputs": [],
   "source": [
    "   class Num:\n",
    "\n",
    "        def __init__(self,test):\n",
    "            self.test = test\n",
    "    \n",
    "       def __add__(self,test):\n",
    "            self.test1 = test1\n",
    "    \n",
    "        def result(self):\n",
    "            return self.test + self.test1\n",
    "\n",
    "        test = test(4 + 5 )\n",
    "\n",
    "        test.result()"
   ]
  },
  {
   "cell_type": "code",
   "execution_count": null,
   "id": "73f54e82-70d6-4c72-b630-0723a31e4c08",
   "metadata": {},
   "outputs": [],
   "source": []
  }
 ],
 "metadata": {
  "kernelspec": {
   "display_name": "Python 3 (ipykernel)",
   "language": "python",
   "name": "python3"
  },
  "language_info": {
   "codemirror_mode": {
    "name": "ipython",
    "version": 3
   },
   "file_extension": ".py",
   "mimetype": "text/x-python",
   "name": "python",
   "nbconvert_exporter": "python",
   "pygments_lexer": "ipython3",
   "version": "3.10.8"
  }
 },
 "nbformat": 4,
 "nbformat_minor": 5
}
